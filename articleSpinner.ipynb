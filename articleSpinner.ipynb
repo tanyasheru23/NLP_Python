{
  "nbformat": 4,
  "nbformat_minor": 0,
  "metadata": {
    "colab": {
      "provenance": []
    },
    "kernelspec": {
      "name": "python3",
      "display_name": "Python 3"
    },
    "language_info": {
      "name": "python"
    }
  },
  "cells": [
    {
      "cell_type": "code",
      "execution_count": 53,
      "metadata": {
        "id": "X3EuHhVLlkhB"
      },
      "outputs": [],
      "source": [
        "import numpy as np\n",
        "import matplotlib.pyplot as plt\n",
        "import pandas as pd"
      ]
    },
    {
      "cell_type": "code",
      "source": [
        "import nltk\n",
        "nltk.download('punkt')"
      ],
      "metadata": {
        "id": "Xh_v1BZflr9v",
        "colab": {
          "base_uri": "https://localhost:8080/"
        },
        "outputId": "dc8a3296-e8cf-4fe2-b7cf-6c7d3f2c58b3"
      },
      "execution_count": 54,
      "outputs": [
        {
          "output_type": "stream",
          "name": "stderr",
          "text": [
            "[nltk_data] Downloading package punkt to /root/nltk_data...\n",
            "[nltk_data]   Package punkt is already up-to-date!\n"
          ]
        },
        {
          "output_type": "execute_result",
          "data": {
            "text/plain": [
              "True"
            ]
          },
          "metadata": {},
          "execution_count": 54
        }
      ]
    },
    {
      "cell_type": "code",
      "source": [
        "from bs4 import BeautifulSoup"
      ],
      "metadata": {
        "id": "Mj82X4TM7qMt"
      },
      "execution_count": 55,
      "outputs": []
    },
    {
      "cell_type": "code",
      "source": [
        "import warnings\n",
        "warnings.filterwarnings('ignore')"
      ],
      "metadata": {
        "id": "rSjsznXwN0Qd"
      },
      "execution_count": 56,
      "outputs": []
    },
    {
      "cell_type": "markdown",
      "source": [
        "Use BeautifulSoup to read XML files"
      ],
      "metadata": {
        "id": "qOdRnIyZX9mp"
      }
    },
    {
      "cell_type": "code",
      "source": [
        "positive_reviews = BeautifulSoup(open('/content/positive.review').read())\n",
        "positive_reviews = positive_reviews.findAll('review_text')"
      ],
      "metadata": {
        "id": "EYE_h88O9bix"
      },
      "execution_count": 57,
      "outputs": []
    },
    {
      "cell_type": "code",
      "source": [
        "import string\n",
        "\n",
        "def tokenize(text):\n",
        "  tokens = text.lower()\n",
        "  tokens = nltk.tokenize.word_tokenize(tokens)\n",
        "  return tokens"
      ],
      "metadata": {
        "id": "9rdyGflhDo2Q"
      },
      "execution_count": 58,
      "outputs": []
    },
    {
      "cell_type": "code",
      "source": [
        "trigram = {}"
      ],
      "metadata": {
        "id": "hT8sV1gTDQAg"
      },
      "execution_count": 59,
      "outputs": []
    },
    {
      "cell_type": "code",
      "source": [
        "positive_tokenized_reviews = []\n",
        "for review in positive_reviews:\n",
        "  tokens = tokenize(review.text)\n",
        "  positive_tokenized_reviews.append(tokens)\n",
        "\n",
        "  for i in range(1, len(tokens)-1):\n",
        "    key = (tokens[i-1],tokens[i+1])\n",
        "    if key not in trigram:\n",
        "      trigram[key] = {}\n",
        "      trigram[key][tokens[i]] = 1\n",
        "    elif tokens[i] not in trigram[key]:\n",
        "      trigram[key][tokens[i]] = 1\n",
        "    else:\n",
        "      trigram[key][tokens[i]] += 1"
      ],
      "metadata": {
        "id": "SL_kR16waSYW"
      },
      "execution_count": 60,
      "outputs": []
    },
    {
      "cell_type": "code",
      "source": [
        "import itertools\n",
        "\n",
        "K = 8\n",
        "res = dict(itertools.islice(trigram.items(), K))\n",
        "res"
      ],
      "metadata": {
        "colab": {
          "base_uri": "https://localhost:8080/"
        },
        "id": "-DOumSgtyw0R",
        "outputId": "5310c00c-6caa-4d73-d9f3-296d8b3fb1f9"
      },
      "execution_count": 61,
      "outputs": [
        {
          "output_type": "execute_result",
          "data": {
            "text/plain": [
              "{('sphere', 'michael'): {'by': 1},\n",
              " ('by', 'crichton'): {'michael': 1},\n",
              " ('michael', 'is'): {'crichton': 1, 'sheen': 1, 'hauge': 1},\n",
              " ('crichton', 'an'): {'is': 1, 'takes': 1},\n",
              " ('is', 'excellant'): {'an': 1},\n",
              " ('an', 'novel'): {'excellant': 1, 'engaging': 1, 'award-winning': 1},\n",
              " ('excellant', '.'): {'novel': 1},\n",
              " ('novel', 'this'): {'.': 2, 'before': 1, 'of': 1}}"
            ]
          },
          "metadata": {},
          "execution_count": 61
        }
      ]
    },
    {
      "cell_type": "code",
      "source": [
        "for key in trigram:\n",
        "  total = sum(trigram[key].values())\n",
        "  for word in trigram[key]:\n",
        "    trigram[key][word] /= total"
      ],
      "metadata": {
        "id": "TAA684aNdj6M"
      },
      "execution_count": 62,
      "outputs": []
    },
    {
      "cell_type": "code",
      "source": [
        "import itertools\n",
        "\n",
        "K = 8\n",
        "res = dict(itertools.islice(trigram.items(), K))\n",
        "res"
      ],
      "metadata": {
        "colab": {
          "base_uri": "https://localhost:8080/"
        },
        "id": "JGsVBzPR1Elg",
        "outputId": "f85aa901-c015-4cec-e8bf-77f764a83e8e"
      },
      "execution_count": 63,
      "outputs": [
        {
          "output_type": "execute_result",
          "data": {
            "text/plain": [
              "{('sphere', 'michael'): {'by': 1.0},\n",
              " ('by', 'crichton'): {'michael': 1.0},\n",
              " ('michael', 'is'): {'crichton': 0.3333333333333333,\n",
              "  'sheen': 0.3333333333333333,\n",
              "  'hauge': 0.3333333333333333},\n",
              " ('crichton', 'an'): {'is': 0.5, 'takes': 0.5},\n",
              " ('is', 'excellant'): {'an': 1.0},\n",
              " ('an', 'novel'): {'excellant': 0.3333333333333333,\n",
              "  'engaging': 0.3333333333333333,\n",
              "  'award-winning': 0.3333333333333333},\n",
              " ('excellant', '.'): {'novel': 1.0},\n",
              " ('novel', 'this'): {'.': 0.5, 'before': 0.25, 'of': 0.25}}"
            ]
          },
          "metadata": {},
          "execution_count": 63
        }
      ]
    },
    {
      "cell_type": "code",
      "source": [
        "def sample_word(dictionary):\n",
        "  p0 = np.random.random()\n",
        "  cumulative = 0\n",
        "  for word, prob in dictionary.items():\n",
        "    cumulative += prob\n",
        "    if p0 < cumulative:\n",
        "      return word"
      ],
      "metadata": {
        "id": "2jwaSx3PbmB8"
      },
      "execution_count": 64,
      "outputs": []
    },
    {
      "cell_type": "code",
      "source": [
        "import random\n",
        "\n",
        "def spin_article(article):\n",
        "    review = random.choice(article)\n",
        "    original = review.text\n",
        "    print(\"Original review: \\n\", original, \"\\n-----------------\\n\")\n",
        "    tokens = tokenize(original)\n",
        "    for i in range(1, len(tokens)-1):\n",
        "      if random.random() < 0.2:\n",
        "        key = (tokens[i-1], tokens[i+1])\n",
        "        if key in trigram:\n",
        "          new_word = sample_word(trigram[key])\n",
        "          tokens[i] = new_word\n",
        "\n",
        "    new_review = \" \".join(tokens).replace(\" .\", \".\").replace(\"$ \", \"$\").replace(\" ,\", \",\").replace(\" !\", \"!\").replace(\" ?\", \"?\").replace(\" '\", \"'\")\n",
        "    print(\"New review: \\n\", new_review)"
      ],
      "metadata": {
        "id": "8FzypjptvHN4"
      },
      "execution_count": 67,
      "outputs": []
    },
    {
      "cell_type": "code",
      "source": [
        "spin_article(positive_reviews)"
      ],
      "metadata": {
        "colab": {
          "base_uri": "https://localhost:8080/"
        },
        "id": "btLWrsPmxiyS",
        "outputId": "63089866-9671-4fd0-8625-11930e83af7c"
      },
      "execution_count": 68,
      "outputs": [
        {
          "output_type": "stream",
          "name": "stdout",
          "text": [
            "Original review: \n",
            " \n",
            "I am admittedly a terrible cook, so I follow recipes to the letter, often with nonmagical results. With Julia Child in my kitchen, however, things are looking up! Her recipe for roast chicken was so exact that even I could not mess it up. That and the sauteed beef steaks are now my go-to dinners because they are easy and reliable.  I've also had great success with the quiche and biscuit recipes and look forward to trying breadmaking for the first time.  This book is essential for anyone out on his or her own for the first time, newlyweds, or people like me who just don't get it (but really want to)\n",
            " \n",
            "-----------------\n",
            "\n",
            "New review: \n",
            " i am admittedly a terrible cook, so i follow recipes to the letter, often with nonmagical results. with julia child in my favorite, however, things are looking up! her recipe for roast chicken was so exact that even i could not mess it up. that and the sauteed beef steaks are now my go-to dinners because they are overlong and calm. i've also had great success with the quiche and biscuit recipes that look forward to trying breadmaking for the first book. this book is essential for anyone out on his or your own for the first story, newlyweds, or people like me this just do n't get it ( but they want to )\n"
          ]
        }
      ]
    },
    {
      "cell_type": "code",
      "source": [],
      "metadata": {
        "id": "RF4Q7kevzRi9"
      },
      "execution_count": 66,
      "outputs": []
    }
  ]
}