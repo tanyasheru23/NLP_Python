{
  "nbformat": 4,
  "nbformat_minor": 0,
  "metadata": {
    "colab": {
      "provenance": []
    },
    "kernelspec": {
      "name": "python3",
      "display_name": "Python 3"
    },
    "language_info": {
      "name": "python"
    }
  },
  "cells": [
    {
      "cell_type": "code",
      "execution_count": 1,
      "metadata": {
        "id": "f9xoN1mD5cHh"
      },
      "outputs": [],
      "source": [
        "import numpy as np\n",
        "import matplotlib.pyplot as plt\n",
        "import re\n",
        "import string\n",
        "import random\n",
        "import requests\n",
        "import os\n",
        "import textwrap"
      ]
    },
    {
      "cell_type": "code",
      "source": [
        "letters1 = list(string.ascii_lowercase)\n",
        "letters2 = list(string.ascii_lowercase)\n",
        "\n",
        "true_mapping = {}\n",
        "\n",
        "random.shuffle(letters2)\n",
        "\n",
        "for k, v in zip(letters1, letters2):\n",
        "  true_mapping[k] = v"
      ],
      "metadata": {
        "id": "hmKYaIr-6NyU"
      },
      "execution_count": 2,
      "outputs": []
    },
    {
      "cell_type": "markdown",
      "source": [
        "###Language Model"
      ],
      "metadata": {
        "id": "YTN_lT6OH2X9"
      }
    },
    {
      "cell_type": "code",
      "source": [
        "# Markov Matrix\n",
        "M = np.ones((26, 26))\n",
        "\n",
        "pi = np.zeros(26)\n",
        "\n",
        "def update_transition(ch1, ch2):\n",
        "  # ord(a) = 97, ord(b) = 98\n",
        "  i = ord(ch1) - 97\n",
        "  j = ord(ch2) - 97\n",
        "  M[i, j] += 1\n",
        "\n",
        "def update_pi(ch):\n",
        "  i = ord(ch) - 97\n",
        "  pi[i] += 1\n",
        "\n",
        "def get_word_prob(word):\n",
        "  i = ord(word[0]) - 97\n",
        "  logprob = np.log(pi[i])\n",
        "\n",
        "  for ch in word[1:]:\n",
        "    j = ord(ch)-97\n",
        "    # print(ch)\n",
        "    logprob += np.log(M[i,j])\n",
        "    i = j\n",
        "\n",
        "  return logprob\n",
        "\n",
        "def get_seq_prob(seq):\n",
        "  if type(seq)==str:\n",
        "    words = seq.split()\n",
        "\n",
        "  log_word_prob = 0\n",
        "  for word in words:\n",
        "    log_word_prob += get_word_prob(word)\n",
        "\n",
        "  return log_word_prob"
      ],
      "metadata": {
        "id": "L-eZVCO0H5q4"
      },
      "execution_count": 3,
      "outputs": []
    },
    {
      "cell_type": "code",
      "source": [
        "# download the file\n",
        "if not os.path.exists('moby_dick.txt'):\n",
        "  print(\"Downloading moby dick...\")\n",
        "  r = requests.get('https://lazyprogrammer.me/course_files/moby_dick.txt')\n",
        "  with open('moby_dick.txt', 'w') as f:\n",
        "    f.write(r.content.decode())"
      ],
      "metadata": {
        "id": "9YDrmKtePEkv"
      },
      "execution_count": 4,
      "outputs": []
    },
    {
      "cell_type": "code",
      "source": [
        "regex = re.compile('[^a-zA-Z]') # non - alpha characters\n",
        "\n",
        "for line in open('moby_dick.txt'):\n",
        "  line = line.rstrip()\n",
        "  if line:\n",
        "    line = regex.sub(' ', line) # replace non-aplha characters\n",
        "\n",
        "    tokens = line.lower().split()\n",
        "\n",
        "    for token in tokens:\n",
        "      ch0 = token[0]\n",
        "      update_pi(ch0)\n",
        "\n",
        "      for ch1 in token[1:]:\n",
        "        update_transition(ch0, ch1)\n",
        "        ch0 = ch1\n",
        "\n",
        "pi /= pi.sum()\n",
        "M /= M.sum(axis=1, keepdims=True)"
      ],
      "metadata": {
        "id": "0O9200foUQB1"
      },
      "execution_count": 5,
      "outputs": []
    },
    {
      "cell_type": "code",
      "source": [
        "### encode a message\n",
        "\n",
        "# this is a random excerpt from Project Gutenberg's\n",
        "# The Adventures of Sherlock Holmes, by Arthur Conan Doyle\n",
        "# https://www.gutenberg.org/ebooks/1661\n",
        "\n",
        "original_message = '''I then lounged down the street and found,\n",
        "as I expected, that there was a mews in a lane which runs down\n",
        "by one wall of the garden. I lent the ostlers a hand in rubbing\n",
        "down their horses, and received in exchange twopence, a glass of\n",
        "half-and-half, two fills of shag tobacco, and as much information\n",
        "as I could desire about Miss Adler, to say nothing of half a dozen\n",
        "other people in the neighbourhood in whom I was not in the least\n",
        "interested, but whose biographies I was compelled to listen to.\n",
        "'''\n",
        "\n",
        "# Away they went, and I was just wondering whether I should not do well\n",
        "# to follow them when up the lane came a neat little landau, the coachman\n",
        "# with his coat only half-buttoned, and his tie under his ear, while all\n",
        "# the tags of his harness were sticking out of the buckles. It hadn't\n",
        "# pulled up before she shot out of the hall door and into it. I only\n",
        "# caught a glimpse of her at the moment, but she was a lovely woman, with\n",
        "# a face that a man might die for.\n",
        "\n",
        "# My cabby drove fast. I don't think I ever drove faster, but the others\n",
        "# were there before us. The cab and the landau with their steaming horses\n",
        "# were in front of the door when I arrived. I paid the man and hurried\n",
        "# into the church. There was not a soul there save the two whom I had\n",
        "# followed and a surpliced clergyman, who seemed to be expostulating with\n",
        "# them. They were all three standing in a knot in front of the altar. I\n",
        "# lounged up the side aisle like any other idler who has dropped into a\n",
        "# church. Suddenly, to my surprise, the three at the altar faced round to\n",
        "# me, and Godfrey Norton came running as hard as he could towards me."
      ],
      "metadata": {
        "id": "c4wY7fWaZfGf"
      },
      "execution_count": 6,
      "outputs": []
    },
    {
      "cell_type": "code",
      "source": [
        "def encode_msg(msg):\n",
        "  msg = msg.lower()\n",
        "  msg = regex.sub(' ', msg)\n",
        "\n",
        "  coded_msg = []\n",
        "  for ch in msg:\n",
        "    coded_ch = ch # stores char, if \" \", then no chnges to space char and will remain same in the encoded msg as well\n",
        "    if ch in true_mapping:\n",
        "      coded_ch = true_mapping[ch]\n",
        "    coded_msg.append(coded_ch)\n",
        "\n",
        "  return ''.join(coded_msg)"
      ],
      "metadata": {
        "id": "qdOQLYC_dn8N"
      },
      "execution_count": 7,
      "outputs": []
    },
    {
      "cell_type": "code",
      "source": [
        "encoded_msg = encode_msg(original_message)"
      ],
      "metadata": {
        "id": "u2NOJ9Fq740k"
      },
      "execution_count": 8,
      "outputs": []
    },
    {
      "cell_type": "code",
      "source": [
        "def decode_msg(msg, word_map):\n",
        "  # msg = msg.lower()\n",
        "  # msg = regex.sub(' ', msg)\n",
        "  decoded_msg = []\n",
        "  for ch in msg:\n",
        "    decoded_ch = ch\n",
        "    if ch in word_map:\n",
        "      decoded_ch = word_map[ch]\n",
        "    decoded_msg.append(decoded_ch)\n",
        "\n",
        "  return ''.join(decoded_msg)"
      ],
      "metadata": {
        "id": "OUAG5pBa78wC"
      },
      "execution_count": 9,
      "outputs": []
    },
    {
      "cell_type": "code",
      "source": [
        "dna_pool = []\n",
        "for i in range(20):\n",
        "  dna = list(string.ascii_lowercase)\n",
        "  random.shuffle(dna)\n",
        "  dna_pool.append(dna)"
      ],
      "metadata": {
        "id": "1Y1xv3QYCE5G"
      },
      "execution_count": 10,
      "outputs": []
    },
    {
      "cell_type": "code",
      "source": [
        "def get_offsprings(dna_pool, num_of_offsprings):\n",
        "  off_springs = []\n",
        "\n",
        "  for dna in dna_pool:\n",
        "    for i in range(num_of_offsprings):\n",
        "      copy = dna.copy()\n",
        "      j = np.random.randint(len(copy))\n",
        "      k = np.random.randint(len(copy))\n",
        "\n",
        "      temp = copy[k]\n",
        "      copy[k] = copy[j]\n",
        "      copy[j] = temp\n",
        "\n",
        "      off_springs.append(copy)\n",
        "\n",
        "  return off_springs + dna_pool"
      ],
      "metadata": {
        "id": "2Xod6_RVC0SJ"
      },
      "execution_count": 11,
      "outputs": []
    },
    {
      "cell_type": "code",
      "source": [
        "EPOCHS = 2001\n",
        "scores = np.zeros(EPOCHS)\n",
        "\n",
        "best_dna = None\n",
        "best_map = None\n",
        "best_score = float('-inf')\n",
        "\n",
        "for epoch in range(EPOCHS):\n",
        "  if epoch > 0:\n",
        "    dna_pool = get_offsprings(dna_pool, 3)\n",
        "\n",
        "  dna2scores = {}\n",
        "  for dna in dna_pool:\n",
        "    curr_word_map = {}\n",
        "    letters = list(string.ascii_lowercase)\n",
        "    for k, v in zip(letters, dna):\n",
        "      curr_word_map[k] = v\n",
        "\n",
        "    decoded_msg = decode_msg(encoded_msg, curr_word_map)\n",
        "    score = get_seq_prob(decoded_msg)\n",
        "    # dna2scores[dna] = score\n",
        "    dna2scores[''.join(dna)] = score\n",
        "\n",
        "\n",
        "    if score > best_score:\n",
        "      best_score = score\n",
        "      best_dna = dna\n",
        "      best_map = curr_word_map\n",
        "\n",
        "  # average score for this generation\n",
        "  scores[epoch] = np.mean(list(dna2scores.values()))\n",
        "\n",
        "  # keep the best 5 dna\n",
        "  # also turn them back into list of single chars\n",
        "  sorted_dna = sorted(dna2scores.items(), key=lambda x: x[1], reverse=True)\n",
        "  dna_pool = [list(k) for k, v in sorted_dna[:5]]\n",
        "\n",
        "  if epoch % 200 == 0:\n",
        "    print(\"iter:\", epoch, \"score:\", scores[epoch], \"best so far:\", best_score)"
      ],
      "metadata": {
        "id": "pZPe7YhOCcM3",
        "colab": {
          "base_uri": "https://localhost:8080/"
        },
        "outputId": "efff2772-21c5-4a47-c939-d1e1262fd85d"
      },
      "execution_count": 12,
      "outputs": [
        {
          "output_type": "stream",
          "name": "stdout",
          "text": [
            "iter: 0 score: -2079.9703817394675 best so far: -1788.5687339231479\n",
            "iter: 200 score: -1230.0253604777874 best so far: -1164.7296118830477\n",
            "iter: 400 score: -1214.0709966896982 best so far: -1134.0203321277472\n",
            "iter: 600 score: -1085.9022552364336 best so far: -963.2376944439716\n",
            "iter: 800 score: -1043.5640423145985 best so far: -929.5902922650557\n",
            "iter: 1000 score: -1007.9018288410666 best so far: -929.5902922650557\n",
            "iter: 1200 score: -1010.8789650507724 best so far: -929.5902922650557\n",
            "iter: 1400 score: -1001.8525606618747 best so far: -929.5902922650557\n",
            "iter: 1600 score: -990.8320656486945 best so far: -929.5902922650557\n",
            "iter: 1800 score: -1018.0844824766151 best so far: -929.5902922650557\n",
            "iter: 2000 score: -1035.801794371874 best so far: -929.5902922650557\n"
          ]
        }
      ]
    },
    {
      "cell_type": "code",
      "source": [
        "# use best score\n",
        "decoded_message = decode_msg(encoded_msg, best_map)\n",
        "\n",
        "print(\"LL of decoded message:\", get_seq_prob(decoded_message))\n",
        "print(\"LL of true message:\", get_seq_prob(regex.sub(' ', original_message.lower())))\n",
        "\n",
        "\n",
        "# which letters are wrong?\n",
        "for true, v in true_mapping.items():\n",
        "  pred = best_map[v]\n",
        "  if true != pred:\n",
        "    print(\"true: %s, pred: %s\" % (true, pred))"
      ],
      "metadata": {
        "colab": {
          "base_uri": "https://localhost:8080/"
        },
        "id": "k_6RC7czhEs8",
        "outputId": "2387ef59-9a5f-4bf3-9562-275a509a1418"
      },
      "execution_count": 13,
      "outputs": [
        {
          "output_type": "stream",
          "name": "stdout",
          "text": [
            "LL of decoded message: -929.5902922650557\n",
            "LL of true message: -933.0312453751817\n",
            "true: j, pred: q\n",
            "true: k, pred: z\n",
            "true: q, pred: j\n",
            "true: z, pred: k\n"
          ]
        }
      ]
    },
    {
      "cell_type": "code",
      "source": [
        "# print the final decoded message\n",
        "print(\"Decoded message:\\n\", textwrap.fill(decoded_message))\n",
        "\n",
        "print(\"\\nTrue message:\\n\", original_message)"
      ],
      "metadata": {
        "colab": {
          "base_uri": "https://localhost:8080/"
        },
        "id": "OIrS8RwW2VoB",
        "outputId": "00b7b491-031c-4e24-b21a-d15fe34ca886"
      },
      "execution_count": 14,
      "outputs": [
        {
          "output_type": "stream",
          "name": "stdout",
          "text": [
            "Decoded message:\n",
            " i then lounged down the street and found  as i expected  that there\n",
            "was a mews in a lane which runs down by one wall of the garden  i lent\n",
            "the ostlers a hand in rubbing down their horses  and received in\n",
            "exchange twopence  a glass of half and half  two fills of shag tobacco\n",
            "and as much information as i could desire about miss adler  to say\n",
            "nothing of half a doken other people in the neighbourhood in whom i\n",
            "was not in the least interested  but whose biographies i was compelled\n",
            "to listen to\n",
            "\n",
            "True message:\n",
            " I then lounged down the street and found,\n",
            "as I expected, that there was a mews in a lane which runs down\n",
            "by one wall of the garden. I lent the ostlers a hand in rubbing\n",
            "down their horses, and received in exchange twopence, a glass of\n",
            "half-and-half, two fills of shag tobacco, and as much information\n",
            "as I could desire about Miss Adler, to say nothing of half a dozen\n",
            "other people in the neighbourhood in whom I was not in the least\n",
            "interested, but whose biographies I was compelled to listen to.\n",
            "\n"
          ]
        }
      ]
    },
    {
      "cell_type": "code",
      "source": [
        "plt.plot(scores)\n",
        "plt.show()"
      ],
      "metadata": {
        "colab": {
          "base_uri": "https://localhost:8080/",
          "height": 430
        },
        "id": "Cmwrsn4R2XmE",
        "outputId": "d854b229-bf78-4df4-f07c-43292e2f27ad"
      },
      "execution_count": 15,
      "outputs": [
        {
          "output_type": "display_data",
          "data": {
            "text/plain": [
              "<Figure size 640x480 with 1 Axes>"
            ],
            "image/png": "[encoded data removed]"
          },
          "metadata": {}
        }
      ]
    },
    {
      "cell_type": "code",
      "source": [],
      "metadata": {
        "id": "MjbQDkcr3W-n"
      },
      "execution_count": 15,
      "outputs": []
    }
  ]
}
