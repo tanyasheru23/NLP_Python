{
  "nbformat": 4,
  "nbformat_minor": 0,
  "metadata": {
    "colab": {
      "provenance": []
    },
    "kernelspec": {
      "name": "python3",
      "display_name": "Python 3"
    },
    "language_info": {
      "name": "python"
    }
  },
  "cells": [
    {
      "cell_type": "code",
      "execution_count": 73,
      "metadata": {
        "id": "X3EuHhVLlkhB"
      },
      "outputs": [],
      "source": [
        "import numpy as np\n",
        "import matplotlib.pyplot as plt\n",
        "import pandas as pd"
      ]
    },
    {
      "cell_type": "code",
      "source": [
        "import nltk"
      ],
      "metadata": {
        "id": "Xh_v1BZflr9v"
      },
      "execution_count": 44,
      "outputs": []
    },
    {
      "cell_type": "code",
      "source": [
        "from nltk.stem import WordNetLemmatizer\n",
        "from sklearn.linear_model import LogisticRegression\n",
        "from sklearn.model_selection import train_test_split\n",
        "from sklearn.metrics import confusion_matrix\n",
        "\n",
        "from bs4 import BeautifulSoup"
      ],
      "metadata": {
        "id": "Mj82X4TM7qMt"
      },
      "execution_count": 84,
      "outputs": []
    },
    {
      "cell_type": "code",
      "source": [
        "import warnings\n",
        "warnings.filterwarnings('ignore')"
      ],
      "metadata": {
        "id": "rSjsznXwN0Qd"
      },
      "execution_count": 88,
      "outputs": []
    },
    {
      "cell_type": "code",
      "source": [
        "lemmatizer_ = WordNetLemmatizer()\n",
        "stop_words = set(w.rstrip() for w in open(\"stopwords.txt\"))"
      ],
      "metadata": {
        "id": "2fTnTjHA73Fv"
      },
      "execution_count": 46,
      "outputs": []
    },
    {
      "cell_type": "markdown",
      "source": [
        "Use BeautifulSoup to read XML files"
      ],
      "metadata": {
        "id": "qOdRnIyZX9mp"
      }
    },
    {
      "cell_type": "code",
      "source": [
        "positive_reviews = BeautifulSoup(open('/content/positive.review').read())\n",
        "positive_reviews = positive_reviews.findAll('review_text')"
      ],
      "metadata": {
        "id": "EYE_h88O9bix"
      },
      "execution_count": 47,
      "outputs": []
    },
    {
      "cell_type": "code",
      "source": [
        "negative_reviews = BeautifulSoup(open('/content/negative.review').read())\n",
        "negative_reviews = negative_reviews.findAll('review_text')"
      ],
      "metadata": {
        "id": "v7GS8vpj9-QO"
      },
      "execution_count": 48,
      "outputs": []
    },
    {
      "cell_type": "markdown",
      "source": [
        "To make sure that the data is equal for both the classes, get only the `len(negative_reviews)` number of samples from positive_reviews."
      ],
      "metadata": {
        "id": "j8U0OJjkYEgv"
      }
    },
    {
      "cell_type": "code",
      "source": [
        "np.random.shuffle(positive_reviews)\n",
        "positive_reviews = positive_reviews[:len(negative_reviews)]"
      ],
      "metadata": {
        "id": "MVG092Qn-NOS"
      },
      "execution_count": 50,
      "outputs": []
    },
    {
      "cell_type": "code",
      "source": [
        "word_index_map = {}\n",
        "idx = 0"
      ],
      "metadata": {
        "id": "lUftxz46-us_"
      },
      "execution_count": 51,
      "outputs": []
    },
    {
      "cell_type": "code",
      "source": [
        "nltk.download('punkt')"
      ],
      "metadata": {
        "colab": {
          "base_uri": "https://localhost:8080/"
        },
        "id": "nslQ6WrM_Rg-",
        "outputId": "3bd0aac0-0ab0-4676-f990-6b6d630ced85"
      },
      "execution_count": 52,
      "outputs": [
        {
          "output_type": "stream",
          "name": "stderr",
          "text": [
            "[nltk_data] Downloading package punkt to /root/nltk_data...\n",
            "[nltk_data]   Package punkt is already up-to-date!\n"
          ]
        },
        {
          "output_type": "execute_result",
          "data": {
            "text/plain": [
              "True"
            ]
          },
          "metadata": {},
          "execution_count": 52
        }
      ]
    },
    {
      "cell_type": "code",
      "source": [
        "nltk.download('wordnet')"
      ],
      "metadata": {
        "colab": {
          "base_uri": "https://localhost:8080/"
        },
        "id": "fkzk8_ggCyRR",
        "outputId": "58ae3b1b-6def-4671-9fe0-dfa14fdcae84"
      },
      "execution_count": 53,
      "outputs": [
        {
          "output_type": "stream",
          "name": "stderr",
          "text": [
            "[nltk_data] Downloading package wordnet to /root/nltk_data...\n",
            "[nltk_data]   Package wordnet is already up-to-date!\n"
          ]
        },
        {
          "output_type": "execute_result",
          "data": {
            "text/plain": [
              "True"
            ]
          },
          "metadata": {},
          "execution_count": 53
        }
      ]
    },
    {
      "cell_type": "markdown",
      "source": [
        "Defining a tokenizer using nltk tokenizers and lemmatizer.\n",
        "\n",
        "Lemmatizer ⟶ Generates root word for a given word.\n",
        "\n",
        "Lemmatization helps in decrease of vocab size, by replacing the words with same meaning by its root word"
      ],
      "metadata": {
        "id": "CcQCFXWlYiIW"
      }
    },
    {
      "cell_type": "code",
      "source": [
        "def tokenizer_with_nltk(s):\n",
        "  s = s.lower()\n",
        "  tokens = nltk.tokenize.word_tokenize(s)\n",
        "  tokens = [tok for tok in tokens if len(tok)>2] # assuming anyword of 2 or less no. of letters is not useful or meaningful\n",
        "  tokens = [lemmatizer_.lemmatize(t) for t in tokens]\n",
        "  tokens = [t for t in tokens if t not in stop_words]\n",
        "  return tokens"
      ],
      "metadata": {
        "id": "6jLoQhpeBVqv"
      },
      "execution_count": 54,
      "outputs": []
    },
    {
      "cell_type": "code",
      "source": [
        "positive_tokenized = []\n",
        "negative_tokenized = []"
      ],
      "metadata": {
        "id": "F039g-hODhag"
      },
      "execution_count": 55,
      "outputs": []
    },
    {
      "cell_type": "markdown",
      "source": [
        "Get tokens and add to dictionary for both positive and negative reviews."
      ],
      "metadata": {
        "id": "TNgaJkiVZRrK"
      }
    },
    {
      "cell_type": "code",
      "source": [
        "for review in positive_reviews:\n",
        "  tokens = tokenizer_with_nltk(review.text)\n",
        "  positive_tokenized.append(tokens)\n",
        "  for token in tokens:\n",
        "    if token not in word_index_map:\n",
        "      word_index_map[token] = idx\n",
        "      idx += 1"
      ],
      "metadata": {
        "id": "rJWVCpKL-_4t"
      },
      "execution_count": 56,
      "outputs": []
    },
    {
      "cell_type": "code",
      "source": [
        "for review in negative_reviews:\n",
        "  tokens = tokenizer_with_nltk(review.text)\n",
        "  negative_tokenized.append(tokens)\n",
        "  for token in tokens:\n",
        "    if token not in word_index_map:\n",
        "      word_index_map[token] = idx\n",
        "      idx += 1"
      ],
      "metadata": {
        "id": "8ftqVaXDCq7X"
      },
      "execution_count": 57,
      "outputs": []
    },
    {
      "cell_type": "code",
      "source": [
        "word_index_map['life']"
      ],
      "metadata": {
        "colab": {
          "base_uri": "https://localhost:8080/"
        },
        "id": "C9mJiz-MHa0S",
        "outputId": "12d11fe7-7c45-4e32-c27a-852c37cbb87e"
      },
      "execution_count": 105,
      "outputs": [
        {
          "output_type": "execute_result",
          "data": {
            "text/plain": [
              "99"
            ]
          },
          "metadata": {},
          "execution_count": 105
        }
      ]
    },
    {
      "cell_type": "markdown",
      "source": [
        "We now need X as a vector of counts of each word.\n",
        "\n",
        "For eg: columns are \"yes\", \"good\", \"no\", \"bad\"\n",
        "\n",
        "`x = [2, 1, 6, 8]`\n",
        "\n",
        "here x says, that in the text of that particular input has `yes` 2 times, `bad` 8 times and etc\n"
      ],
      "metadata": {
        "id": "VWypFEhLFMss"
      }
    },
    {
      "cell_type": "markdown",
      "source": [
        "Defining a function that return data vector for a given `input.text` and `label`."
      ],
      "metadata": {
        "id": "iIr_d9ooZfA1"
      }
    },
    {
      "cell_type": "code",
      "source": [
        "def tokens_to_vector(tokens, label):\n",
        "  x = np.zeros(len(word_index_map) + 1)\n",
        "  for t in tokens:\n",
        "    i = word_index_map[t]\n",
        "    x[i] += 1 # increment the count of that word i.e index\n",
        "  x = x/x.sum()\n",
        "  x[-1] = label\n",
        "  return x"
      ],
      "metadata": {
        "id": "rrd03gycEbuU"
      },
      "execution_count": 67,
      "outputs": []
    },
    {
      "cell_type": "code",
      "source": [
        "X_positive = []\n",
        "for each_input in positive_tokenized:\n",
        "  data_input = tokens_to_vector(each_input, 1)\n",
        "  X_positive.append(data_input)"
      ],
      "metadata": {
        "id": "tZx1f5pgIDgx"
      },
      "execution_count": 68,
      "outputs": []
    },
    {
      "cell_type": "code",
      "source": [
        "X_negative = []\n",
        "for each_input in negative_tokenized:\n",
        "  data_input = tokens_to_vector(each_input, 0)\n",
        "  X_negative.append(data_input)"
      ],
      "metadata": {
        "id": "jkVS9g1DD0au"
      },
      "execution_count": 69,
      "outputs": []
    },
    {
      "cell_type": "code",
      "source": [
        "df1 = pd.DataFrame(X_positive)\n",
        "df2 = pd.DataFrame(X_negative)\n",
        "df = pd.concat([df1, df2], axis=0)"
      ],
      "metadata": {
        "id": "ufLAZiUEESxt"
      },
      "execution_count": 70,
      "outputs": []
    },
    {
      "cell_type": "code",
      "source": [
        "X_train, X_test, y_train, y_test = train_test_split(df.iloc[:, :-1], df.iloc[:,-1:], shuffle = True, random_state = 42, train_size = 0.80)"
      ],
      "metadata": {
        "id": "Fk8kJT4FJy0E"
      },
      "execution_count": 86,
      "outputs": []
    },
    {
      "cell_type": "code",
      "source": [
        "model = LogisticRegression()\n",
        "model.fit(X_train, y_train)\n",
        "y_train_pred = model.predict(X_train)\n",
        "y_test_pred = model.predict(X_test)\n",
        "\n",
        "print(\"Classification rate: \\n\")\n",
        "print(\"Train set: \", model.score(X_train, y_train))\n",
        "print(\"Test set:  \", model.score(X_test, y_test))"
      ],
      "metadata": {
        "colab": {
          "base_uri": "https://localhost:8080/"
        },
        "id": "HW7eJ6jwMisl",
        "outputId": "e22f6583-9bdd-437e-bebb-fe5fb689ec6b"
      },
      "execution_count": 91,
      "outputs": [
        {
          "output_type": "stream",
          "name": "stdout",
          "text": [
            "Classification rate: \n",
            "\n",
            "Train set:  0.72\n",
            "Test set:   0.6875\n"
          ]
        }
      ]
    },
    {
      "cell_type": "code",
      "source": [
        "print(f\"The Confusion Matrix for training dataset: \\n {confusion_matrix(y_train, y_train_pred)}\")"
      ],
      "metadata": {
        "colab": {
          "base_uri": "https://localhost:8080/"
        },
        "id": "TdQ2bKhsN1F8",
        "outputId": "3a94b503-9f1c-4b6a-f6bb-ec496f82cda3"
      },
      "execution_count": 106,
      "outputs": [
        {
          "output_type": "stream",
          "name": "stdout",
          "text": [
            "The Confusion Matrix for training dataset: \n",
            " [[545 254]\n",
            " [194 607]]\n"
          ]
        }
      ]
    },
    {
      "cell_type": "code",
      "source": [
        "print(f\"The Confusion Matrix for training dataset: \\n {confusion_matrix(y_test, y_test_pred)}\")"
      ],
      "metadata": {
        "colab": {
          "base_uri": "https://localhost:8080/"
        },
        "id": "byaX8JcjOqv-",
        "outputId": "23344e17-5985-4795-eea9-a28602ed759c"
      },
      "execution_count": 107,
      "outputs": [
        {
          "output_type": "stream",
          "name": "stdout",
          "text": [
            "The Confusion Matrix for training dataset: \n",
            " [[131  70]\n",
            " [ 55 144]]\n"
          ]
        }
      ]
    },
    {
      "cell_type": "code",
      "source": [
        "threshold = 0.5\n",
        "\n",
        "print(\"Positive weights --> imply words in Positive reviews\\n\")\n",
        "\n",
        "for word, index in word_index_map.items():\n",
        "  weight = model.coef_[0][index]\n",
        "  if weight > threshold:\n",
        "    print(f\"The weight of : '{word}' is {weight}\")\n",
        "\n",
        "print(\"\\n\\nNegative weights --> imply words in Negative reviews\\n\")\n",
        "for word, index in word_index_map.items():\n",
        "  weight = model.coef_[0][index]\n",
        "  if weight < -1*threshold:\n",
        "    print(f\"The weight of : '{word}' is {weight}\")"
      ],
      "metadata": {
        "colab": {
          "base_uri": "https://localhost:8080/"
        },
        "id": "_WJ-Q98dOvKz",
        "outputId": "173dffbe-5fa7-44d8-f208-9b24bc245e34"
      },
      "execution_count": 103,
      "outputs": [
        {
          "output_type": "stream",
          "name": "stdout",
          "text": [
            "Positive weights --> imply words in Positive reviews\n",
            "\n",
            "The weight of : 'this' is 0.7648052659411899\n",
            "The weight of : 'ha' is 0.7760447890839357\n",
            "The weight of : 'favorite' is 0.6069746678603795\n",
            "The weight of : 'you' is 1.221296441746252\n",
            "The weight of : 'life' is 0.5436339442008887\n",
            "The weight of : 'recommend' is 0.7186541003964967\n",
            "The weight of : 'read' is 0.892298340427654\n",
            "The weight of : 'excellent' is 0.6632685280634041\n",
            "The weight of : 'loved' is 0.5546260159886892\n",
            "The weight of : 'highly' is 0.6214337162325914\n",
            "The weight of : 'love' is 0.9582532214621934\n",
            "The weight of : 'easy' is 0.792185574369176\n",
            "The weight of : 'wonderful' is 0.5203425742469481\n",
            "\n",
            "\n",
            "Negative weights --> imply words in Negative reviews\n",
            "\n",
            "The weight of : 'wa' is -2.283723355450725\n",
            "The weight of : 'n't' is -2.2655006322464653\n",
            "The weight of : 'then' is -0.5593789508176457\n",
            "The weight of : 'author' is -0.5332793738075947\n",
            "The weight of : 'waste' is -0.6153200072919113\n",
            "The weight of : 'instead' is -0.6148580992280883\n",
            "The weight of : 'bad' is -0.9534549299560112\n",
            "The weight of : 'boring' is -0.753792592690533\n"
          ]
        }
      ]
    },
    {
      "cell_type": "code",
      "source": [],
      "metadata": {
        "id": "8x_ps0bAPv7X"
      },
      "execution_count": null,
      "outputs": []
    }
  ]
}