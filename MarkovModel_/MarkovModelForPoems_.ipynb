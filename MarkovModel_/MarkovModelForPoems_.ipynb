{
  "cells": [
    {
      "cell_type": "markdown",
      "source": [
        "#Importing Data"
      ],
      "metadata": {
        "id": "92G5Z_jNQTJK"
      }
    },
    {
      "cell_type": "code",
      "execution_count": null,
      "metadata": {
        "colab": {
          "base_uri": "https://localhost:8080/"
        },
        "id": "lfPHsxCb38aN",
        "outputId": "ba4ca704-6c33-4b78-9ad1-55fee8ba7518"
      },
      "outputs": [
        {
          "output_type": "stream",
          "name": "stdout",
          "text": [
            "File ‘edgar_allan_poe.txt’ already there; not retrieving.\n",
            "\n",
            "File ‘robert_frost.txt’ already there; not retrieving.\n",
            "\n"
          ]
        }
      ],
      "source": [
        "!wget -nc https://raw.githubusercontent.com/lazyprogrammer/machine_learning_examples/master/hmm_class/edgar_allan_poe.txt\n",
        "!wget -nc https://raw.githubusercontent.com/lazyprogrammer/machine_learning_examples/master/hmm_class/robert_frost.txt"
      ]
    },
    {
      "cell_type": "markdown",
      "source": [
        "Import required libraries"
      ],
      "metadata": {
        "id": "z3PRCRKFQHC1"
      }
    },
    {
      "cell_type": "code",
      "execution_count": null,
      "metadata": {
        "id": "02xAwDBM3-kd"
      },
      "outputs": [],
      "source": [
        "import matplotlib.pyplot as plt\n",
        "import numpy as np\n",
        "import pandas as pd\n",
        "from sklearn.model_selection import train_test_split\n",
        "import string"
      ]
    },
    {
      "cell_type": "code",
      "execution_count": null,
      "metadata": {
        "id": "bzTF-Evw4gel"
      },
      "outputs": [],
      "source": [
        "input_files = [\"edgar_allan_poe.txt\", \"robert_frost.txt\"]"
      ]
    },
    {
      "cell_type": "code",
      "execution_count": null,
      "metadata": {
        "colab": {
          "base_uri": "https://localhost:8080/"
        },
        "id": "ypD84VsU4ytw",
        "outputId": "8a38d50d-95f9-4c39-d769-891793ebe903"
      },
      "outputs": [
        {
          "output_type": "stream",
          "name": "stdout",
          "text": [
            "LO! Death hath rear'd himself a throne\n",
            "In a strange city, all alone,\n",
            "Far down within the dim west\n",
            "Where the good, and the bad, and the worst, and the best,\n",
            "Have gone to their eternal rest.\n",
            " \n",
            "There shrines, and palaces, and towers\n",
            "Are not like any thing of ours\n",
            "Oh no! O no! ours never loom\n",
            "To heaven with that ungodly gloom!\n"
          ]
        }
      ],
      "source": [
        "!head edgar_allan_poe.txt"
      ]
    },
    {
      "cell_type": "code",
      "execution_count": null,
      "metadata": {
        "colab": {
          "base_uri": "https://localhost:8080/"
        },
        "id": "2XE73hpp42QK",
        "outputId": "0004c576-b3ad-44b3-fa9f-89415660c550"
      },
      "outputs": [
        {
          "output_type": "stream",
          "name": "stdout",
          "text": [
            "Two roads diverged in a yellow wood,\n",
            "And sorry I could not travel both\n",
            "And be one traveler, long I stood\n",
            "And looked down one as far as I could\n",
            "To where it bent in the undergrowth; \n",
            "\n",
            "Then took the other, as just as fair,\n",
            "And having perhaps the better claim\n",
            "Because it was grassy and wanted wear,\n",
            "Though as for that the passing there\n"
          ]
        }
      ],
      "source": [
        "!head robert_frost.txt"
      ]
    },
    {
      "cell_type": "markdown",
      "source": [
        "1. get input `text` and `labels` seperately\n",
        "2. for each file, for each line, clean text - remove spcl chars, new line\n",
        "3. store each text in new text data set\n",
        "4. add coressponding labels in seperate list"
      ],
      "metadata": {
        "id": "LO3aLDEW09ko"
      }
    },
    {
      "cell_type": "code",
      "execution_count": null,
      "metadata": {
        "colab": {
          "base_uri": "https://localhost:8080/"
        },
        "id": "whA6K2kn0ESx",
        "outputId": "04b74460-af17-40ae-b20d-8ee219fcbc0b"
      },
      "outputs": [
        {
          "output_type": "stream",
          "name": "stdout",
          "text": [
            "label 0 corresponds to file edgar_allan_poe.txt\n",
            "label 1 corresponds to file robert_frost.txt\n"
          ]
        }
      ],
      "source": [
        "input_text = []\n",
        "labels = []\n",
        "\n",
        "for label, f in enumerate(input_files):\n",
        "  print(f\"label {label} corresponds to file {f}\")\n",
        "  for line in open(f):\n",
        "    line = line.lower().rstrip()\n",
        "    if line:\n",
        "      line = line.translate(str.maketrans(\"\",\"\", string.punctuation))\n",
        "      input_text.append(line)\n",
        "      labels.append(label)"
      ]
    },
    {
      "cell_type": "markdown",
      "source": [
        "#Train-Test-Split"
      ],
      "metadata": {
        "id": "m3-kYpZq2LA8"
      }
    },
    {
      "cell_type": "code",
      "execution_count": null,
      "metadata": {
        "id": "joU-C-C1785L"
      },
      "outputs": [],
      "source": [
        "X_train, X_test, y_train, y_test = train_test_split(input_text, labels, shuffle=True)"
      ]
    },
    {
      "cell_type": "code",
      "execution_count": null,
      "metadata": {
        "colab": {
          "base_uri": "https://localhost:8080/"
        },
        "id": "nhdwrPchvDT9",
        "outputId": "2911e9d8-1496-4456-998e-f100ee65ad13"
      },
      "outputs": [
        {
          "output_type": "execute_result",
          "data": {
            "text/plain": [
              "['to make them out',\n",
              " 'his small fist buried in the bushy hide',\n",
              " 'from north to south across the blue',\n",
              " 'the road there if youll let a guide direct you',\n",
              " 'if i could dwell']"
            ]
          },
          "metadata": {},
          "execution_count": 47
        }
      ],
      "source": [
        "X_train[:5]"
      ]
    },
    {
      "cell_type": "code",
      "execution_count": null,
      "metadata": {
        "colab": {
          "base_uri": "https://localhost:8080/"
        },
        "id": "edgm3ubWvFnd",
        "outputId": "bc6426a0-5eb9-4e6d-a41d-b5034f342c7b"
      },
      "outputs": [
        {
          "output_type": "execute_result",
          "data": {
            "text/plain": [
              "[1, 1, 1, 1, 0]"
            ]
          },
          "metadata": {},
          "execution_count": 48
        }
      ],
      "source": [
        "y_train[:5]"
      ]
    },
    {
      "cell_type": "markdown",
      "source": [
        "#Text to int / Tokenization"
      ],
      "metadata": {
        "id": "g4gjhDQthucm"
      }
    },
    {
      "cell_type": "markdown",
      "source": [
        "Tokenize\n",
        "1. create unique `int` for each `word`\n",
        "2. make a `dict`\n",
        "3. loop through train set\n",
        "4. if `word not in dict` add to dict and increase `int` val by 1"
      ],
      "metadata": {
        "id": "xtcnJDjm2euT"
      }
    },
    {
      "cell_type": "code",
      "source": [
        "word2idx = {\"<unk>\":0}\n",
        "idx = 1\n",
        "\n",
        "for line in X_train:\n",
        "  for token in line.split():\n",
        "    if token not in word2idx:\n",
        "      word2idx[token] = idx\n",
        "      idx += 1"
      ],
      "metadata": {
        "id": "RBtRD7zH2ePC"
      },
      "execution_count": null,
      "outputs": []
    },
    {
      "cell_type": "code",
      "source": [
        "len(word2idx)"
      ],
      "metadata": {
        "colab": {
          "base_uri": "https://localhost:8080/"
        },
        "id": "0OXEdVhP2eE2",
        "outputId": "92465dea-0170-418e-f175-825aca2c141f"
      },
      "execution_count": null,
      "outputs": [
        {
          "output_type": "execute_result",
          "data": {
            "text/plain": [
              "2536"
            ]
          },
          "metadata": {},
          "execution_count": 50
        }
      ]
    },
    {
      "cell_type": "markdown",
      "source": [
        "convert text ⟶ int in both train and test data using `tokens`"
      ],
      "metadata": {
        "id": "Y99w7GEP3MBO"
      }
    },
    {
      "cell_type": "code",
      "source": [
        "X_train_int = []\n",
        "\n",
        "for line in X_train:\n",
        "  line_int = [word2idx[token] for token in line.split()]\n",
        "  X_train_int.append(line_int)\n",
        "\n",
        "X_test_int = []\n",
        "for line in X_test:\n",
        "  line_int = [word2idx.get(token, 0) for token in line.split()]\n",
        "  X_test_int.append(line_int)"
      ],
      "metadata": {
        "id": "MBUBzkjf3LVQ"
      },
      "execution_count": null,
      "outputs": []
    },
    {
      "cell_type": "code",
      "source": [
        "X_train_int[:5]"
      ],
      "metadata": {
        "colab": {
          "base_uri": "https://localhost:8080/"
        },
        "id": "ZEAGjX6-2d57",
        "outputId": "888a3d39-c5d7-417b-8782-abd41db9595a"
      },
      "execution_count": null,
      "outputs": [
        {
          "output_type": "execute_result",
          "data": {
            "text/plain": [
              "[[1, 2, 3, 4],\n",
              " [5, 6, 7, 8, 9, 10, 11, 12],\n",
              " [13, 14, 1, 15, 16, 10, 17],\n",
              " [10, 18, 19, 20, 21, 22, 23, 24, 25, 26],\n",
              " [20, 27, 28, 29]]"
            ]
          },
          "metadata": {},
          "execution_count": 52
        }
      ]
    },
    {
      "cell_type": "markdown",
      "source": [
        "#**TRAINING**"
      ],
      "metadata": {
        "id": "7xeaUAcv3Apo"
      }
    },
    {
      "cell_type": "markdown",
      "source": [
        "## Markov Models"
      ],
      "metadata": {
        "id": "8SQoE1ZChhpL"
      }
    },
    {
      "cell_type": "markdown",
      "source": [
        "Train Markov Models - 1 for each class\n",
        "1. Need `A` matrix & `pi` vector\n",
        "2. `A` - `M x M`\n",
        "3. `pi` - `M`\n",
        "4. `M` - `size of word2vec`\n",
        "5. create a `function` for computing `A` & `pi`\n",
        "6. function:\n",
        "   * for each line - `pi(line(0))++`\n",
        "   * for each token - `A(token, token+1)++`\n",
        "\n",
        "NOTE: Add one smoothing"
      ],
      "metadata": {
        "id": "L-ISDQok8_jd"
      }
    },
    {
      "cell_type": "code",
      "source": [
        "M = len(word2idx)\n",
        "A0 = np.ones((M,M))\n",
        "pi0 = np.ones(M)\n",
        "\n",
        "A1 = np.ones((M,M))\n",
        "pi1 = np.ones(M)"
      ],
      "metadata": {
        "id": "leQIKU9g4E4N"
      },
      "execution_count": null,
      "outputs": []
    },
    {
      "cell_type": "code",
      "source": [
        "def compute_markov_model(text_as_int, A, pi):\n",
        "  for line in text_as_int:\n",
        "    pi[line[0]] += 1\n",
        "    # print(line[0])\n",
        "    for token in range(1, len(line)):\n",
        "      A[line[token-1], line[token]] += 1"
      ],
      "metadata": {
        "id": "tsjUchUJ4EkB"
      },
      "execution_count": null,
      "outputs": []
    },
    {
      "cell_type": "code",
      "source": [
        "label_0_text = []\n",
        "\n",
        "for i in range(len(y_train)):\n",
        "  if y_train[i] == 0:\n",
        "    label_0_text.append(X_train_int[i])"
      ],
      "metadata": {
        "id": "L0DRC6GO4EBZ"
      },
      "execution_count": null,
      "outputs": []
    },
    {
      "cell_type": "code",
      "source": [
        "label_1_text = []\n",
        "\n",
        "for i in range(len(y_train)):\n",
        "  if y_train[i] == 1:\n",
        "    label_1_text.append(X_train_int[i])"
      ],
      "metadata": {
        "id": "5Ccz3Tu0XPK5"
      },
      "execution_count": null,
      "outputs": []
    },
    {
      "cell_type": "code",
      "source": [
        "compute_markov_model(label_0_text, A0, pi0)\n",
        "compute_markov_model(label_1_text, A1, pi1)"
      ],
      "metadata": {
        "id": "-HL_FiGGBiTS"
      },
      "execution_count": null,
      "outputs": []
    },
    {
      "cell_type": "markdown",
      "source": [
        "Normalize the vector and matrix to get probabilities"
      ],
      "metadata": {
        "id": "Ki9Q3PkmePud"
      }
    },
    {
      "cell_type": "code",
      "source": [
        "pi0 = pi0/pi0.sum()\n",
        "A0 = A0/A0.sum(axis=1)\n",
        "\n",
        "pi1 = pi1/pi1.sum()\n",
        "A1 = A1/A1.sum(axis=1)"
      ],
      "metadata": {
        "id": "K8qOhbRXdXST"
      },
      "execution_count": null,
      "outputs": []
    },
    {
      "cell_type": "markdown",
      "source": [
        "Take `log` since it will make our computations easier"
      ],
      "metadata": {
        "id": "_C8J1Z-nhHv-"
      }
    },
    {
      "cell_type": "code",
      "source": [
        "log_pi0 = np.log(pi0)\n",
        "log_A0 = np.log(A0)\n",
        "\n",
        "log_pi1 = np.log(pi1)\n",
        "log_A1 = np.log(A1)"
      ],
      "metadata": {
        "id": "FwQisve8ge3G"
      },
      "execution_count": null,
      "outputs": []
    },
    {
      "cell_type": "markdown",
      "source": [
        "#**CLASSIFICATION**"
      ],
      "metadata": {
        "id": "H1FW-Dom2yXb"
      }
    },
    {
      "cell_type": "markdown",
      "source": [
        "##Bayes Calculations"
      ],
      "metadata": {
        "id": "hMX4cPJTh5OX"
      }
    },
    {
      "cell_type": "markdown",
      "source": [
        "###Computing Priors\n",
        "* prior of class_0\n",
        "* prior of class_1\n",
        "\n",
        "Sum of priors = 1"
      ],
      "metadata": {
        "id": "2DM8PGz-JBrL"
      }
    },
    {
      "cell_type": "code",
      "source": [
        "#compute priors\n",
        "prior_0 = y_train.count(0)/len(y_train)\n",
        "prior_1 = y_train.count(1)/len(y_train)\n",
        "\n",
        "\n",
        "log_prior0 = np.log(prior_0)\n",
        "log_prior1 = np.log(prior_1)\n",
        "print(f\"Prior of class Edgar: {prior_0}\")\n",
        "print(f\"Prior of class Robert: {prior_1}\")\n",
        "print(f\"Sum of priors = {prior_1 + prior_0}\")"
      ],
      "metadata": {
        "id": "y7sQSCdvYNHF",
        "colab": {
          "base_uri": "https://localhost:8080/"
        },
        "outputId": "42c992c7-676d-406c-e590-4bd76f875bfe"
      },
      "execution_count": null,
      "outputs": [
        {
          "output_type": "stream",
          "name": "stdout",
          "text": [
            "Prior of class Edgar: 0.3287925696594427\n",
            "Prior of class Robert: 0.6712074303405573\n",
            "Sum of priors = 1.0\n"
          ]
        }
      ]
    },
    {
      "cell_type": "markdown",
      "source": [
        "\n",
        "##Probability of seeing a sequence\n",
        "seq = s1, s2, ......, sT\n",
        "\n",
        "`prob(seq) = pi[s1]*ΠAs(t-1),s(t)` for `t 𝝐 [2, T]`\n",
        "\n",
        "log ⟹ `log(prob(seq)) = log(pi[s1]) + Σlog(As(t-1),s(t))` for `t 𝝐 [2, T]`"
      ],
      "metadata": {
        "id": "9ZWq3lQf2rcc"
      }
    },
    {
      "cell_type": "markdown",
      "source": [
        "\n",
        "## Classification using Bayes\n",
        "Compute `prob(author|poem) = prob(poem|author)prob(author)/prob(poem)`\n",
        "\n",
        "We can remove `prob(poem)` form denominator since it doesn't depend on author\n",
        "\n",
        "So we have to calc only\n",
        "1. `prob(author)` = priors\n",
        "2. `prob(poem|author)` = `prob(seq|class or markov model)`\n",
        "\n",
        "`k*` = `argmaxk(prob(poem|author=k)prob(author=k))`\n",
        "\n",
        "log will make our lives easier\n",
        "\n",
        "Sooo...\n",
        "\n",
        "`k*` = `argmax((log(prob(poem|author=k))+log(prob(author=k))))`\n",
        "\n",
        "<br>\n",
        "\n",
        "If we substitute `log` and solve the above equation, it will end up getting substituted in the array of `pi` and matrix of `A` ⇒ `logAs` & `logpis`\n",
        "\n",
        "\n"
      ],
      "metadata": {
        "id": "0tvGhk95iEH7"
      }
    },
    {
      "cell_type": "markdown",
      "source": [
        "\n",
        "##Steps to predict class:\n",
        "\n",
        "1. `prob(poem | author = i)` ⇒ `prob(seq ϵ class_i)`\n",
        "2. calc `prob(seq 𝛜 class_i)` using `prob(seq)` with diff Markov Models\n",
        "  * for eg: `prob(seq ϵ class=0)` using `prob(seq)` with `A0`, `pi0`\n",
        "3. To calculate `prob(author = i| poem)` - we need to multiply with calculated priors.\n",
        "4. store `prob(author = i| poem)` for all i acc to index in a list/array\n",
        "5. `k = argmax(list)` ⇒ predicted_class\n",
        "\n",
        "NOTE: Change formulae according to log"
      ],
      "metadata": {
        "id": "aLh6CYJCwBaU"
      }
    },
    {
      "cell_type": "markdown",
      "source": [
        "*Following 2 code blocks are simply for understanding the calculations required for classification for 1 line or text*\n",
        "\n",
        "**Later blocks have the proper class for classifier to be used as a model**"
      ],
      "metadata": {
        "id": "cRbIkPh9O_8I"
      }
    },
    {
      "cell_type": "code",
      "source": [
        "def check_class(text_as_int):\n",
        "\n",
        "  # prob(poem | author)\n",
        "  log_prob_poem_given_0 = (log_pi0[text_as_int[0]]) + sum((log_A0[text_as_int[t-1]][text_as_int[t]]) for t in range(1, len(text_as_int)))\n",
        "  log_prob_poem_given_1 = (log_pi1[text_as_int[0]]) + sum((log_A1[text_as_int[t-1]][text_as_int[t]]) for t in range(1, len(text_as_int)))\n",
        "\n",
        "  # prob(author | poem) = prob(poem | author) * prior_author\n",
        "  log_prob_0_given_poem = log_prob_poem_given_0 + log_prior0\n",
        "  log_prob_1_given_poem = log_prob_poem_given_1 + log_prior1\n",
        "  k = np.argmax([log_prob_0_given_poem, log_prob_1_given_poem])\n",
        "  return k"
      ],
      "metadata": {
        "id": "rmaVxFHriDL4"
      },
      "execution_count": null,
      "outputs": []
    },
    {
      "cell_type": "code",
      "source": [
        "y_pred = np.zeros(len(X_test_int))\n",
        "\n",
        "for i, line in enumerate(X_test_int):\n",
        "  pred_class = check_class(line)\n",
        "  y_pred[i] = pred_class\n",
        "\n",
        "print(f\"Number of correctly predicted samples: {(np.array(y_pred)==np.array(y_test)).sum()} out of total no. of test samples: {(np.array(y_pred)).size}\")"
      ],
      "metadata": {
        "colab": {
          "base_uri": "https://localhost:8080/"
        },
        "id": "ZOEJPmuc7SoL",
        "outputId": "a9982c3f-ac90-40d2-9cc2-d789c7b753bc"
      },
      "execution_count": null,
      "outputs": [
        {
          "output_type": "stream",
          "name": "stdout",
          "text": [
            "Number of correctly predicted samples: 436 out of total no. of test samples: 539\n"
          ]
        }
      ]
    },
    {
      "cell_type": "markdown",
      "source": [
        "##CLASSIFIER CLASS"
      ],
      "metadata": {
        "id": "4PCZeDJVky48"
      }
    },
    {
      "cell_type": "markdown",
      "source": [
        "`logAs` = `[list of As of all classes]`\n",
        "\n",
        "`logpis` = `[list of pis of all classes]`\n",
        "\n",
        "`logpriors` = `[list of priors of all classes]`"
      ],
      "metadata": {
        "id": "yajTc0yEkcVI"
      }
    },
    {
      "cell_type": "code",
      "source": [
        "logAs = [log_A0, log_A1]\n",
        "logpis = [log_pi0, log_pi1]\n",
        "logpriors = [log_prior0, log_prior1]"
      ],
      "metadata": {
        "id": "mn34-4d1qXoD"
      },
      "execution_count": null,
      "outputs": []
    },
    {
      "cell_type": "code",
      "source": [
        "class MarkovClassifier:\n",
        "  def __init__(self, logAs, logpis, logpriors):\n",
        "    self.logAs = logAs\n",
        "    self.logpis = logpis\n",
        "    self.logpriors = logpriors\n",
        "    self.K = len(logpriors) # number of classes = len of priors\n",
        "\n",
        "  def _compute_log_likelihood(self, input_, class_):\n",
        "    logA = self.logAs[class_]\n",
        "    logpi = self.logpis[class_]\n",
        "\n",
        "    logprob = logpi[input_[0]] + sum((logA[input_[t-1]][input_[t]]) for t in range(1, len(input_)))\n",
        "    return logprob\n",
        "\n",
        "  def predict(self, inputs):\n",
        "    preds = np.zeros(len(inputs))\n",
        "    for i, input_ in enumerate(inputs):\n",
        "      posteriors = [self._compute_log_likelihood(input_, c) + self.logpriors[c] for c in range(self.K)]\n",
        "      pred = np.argmax(posteriors)\n",
        "      preds[i] = pred\n",
        "\n",
        "    return preds"
      ],
      "metadata": {
        "id": "0vIu0Cdzjjwu"
      },
      "execution_count": null,
      "outputs": []
    },
    {
      "cell_type": "markdown",
      "source": [
        "#**TESTING**"
      ],
      "metadata": {
        "id": "KHQesL5S7S6J"
      }
    },
    {
      "cell_type": "code",
      "source": [
        "model = MarkovClassifier(logAs, logpis, logpriors)\n",
        "preds_train = model.predict(X_train_int)\n",
        "print(f\"Number of correctly predicted samples: {(preds_train==np.array(y_train)).sum()} out of total no. of train samples: {preds_train.size}\")\n",
        "print(f\"Training accuracy : {np.mean(preds_train == y_train)}\")"
      ],
      "metadata": {
        "colab": {
          "base_uri": "https://localhost:8080/"
        },
        "id": "saSSOp-w3hNr",
        "outputId": "329fdd3f-d383-4642-f3f4-20fb37cee084"
      },
      "execution_count": null,
      "outputs": [
        {
          "output_type": "stream",
          "name": "stdout",
          "text": [
            "Number of correctly predicted samples: 1608 out of total no. of train samples: 1615\n",
            "Training accuracy : 0.9956656346749226\n"
          ]
        }
      ]
    },
    {
      "cell_type": "code",
      "source": [
        "preds_test = model.predict(X_test_int)\n",
        "\n",
        "print(f\"Number of correctly predicted samples: {(np.array(preds_test)==np.array(y_test)).sum()} out of total no. of test samples: {(np.array(preds_test)).size}\")\n",
        "print(f\"Testing accuracy : {np.mean(preds_test==y_test)}\")"
      ],
      "metadata": {
        "colab": {
          "base_uri": "https://localhost:8080/"
        },
        "outputId": "9ac01251-8259-4385-f1b3-3493c9591eb7",
        "id": "2OA1ny-9puwf"
      },
      "execution_count": null,
      "outputs": [
        {
          "output_type": "stream",
          "name": "stdout",
          "text": [
            "Number of correctly predicted samples: 436 out of total no. of test samples: 539\n",
            "Testing accuracy : 0.8089053803339518\n"
          ]
        }
      ]
    },
    {
      "cell_type": "markdown",
      "source": [
        "Checking for the match between normal code and classifier class"
      ],
      "metadata": {
        "id": "E7Yusrb3PlyK"
      }
    },
    {
      "cell_type": "code",
      "source": [
        "if (y_pred==preds_test).all():\n",
        "  print(\"Yayy\")\n",
        "else:\n",
        "  print(\"No\")"
      ],
      "metadata": {
        "colab": {
          "base_uri": "https://localhost:8080/"
        },
        "id": "aQ2neitDpkw6",
        "outputId": "38bffde9-a84d-489b-a73b-aa61bbd2164f"
      },
      "execution_count": null,
      "outputs": [
        {
          "output_type": "stream",
          "name": "stdout",
          "text": [
            "Yayy\n"
          ]
        }
      ]
    },
    {
      "cell_type": "markdown",
      "source": [
        "## Evaluation Metrics\n",
        "\n",
        "Use `f1_score` since we have imbalanced data / classes"
      ],
      "metadata": {
        "id": "kBr1YTFlAND1"
      }
    },
    {
      "cell_type": "code",
      "source": [
        "from sklearn.metrics import confusion_matrix, f1_score, ConfusionMatrixDisplay\n",
        "\n",
        "conf_train = confusion_matrix(y_train, preds_train)\n",
        "print(\"Confusion Matrix for training set: \")\n",
        "conf_train"
      ],
      "metadata": {
        "colab": {
          "base_uri": "https://localhost:8080/"
        },
        "id": "oCVVj5nf-wbL",
        "outputId": "9eb98286-5fb8-46da-9024-887decbcde74"
      },
      "execution_count": null,
      "outputs": [
        {
          "output_type": "stream",
          "name": "stdout",
          "text": [
            "Confusion Matrix for training set: \n"
          ]
        },
        {
          "output_type": "execute_result",
          "data": {
            "text/plain": [
              "array([[ 524,    7],\n",
              "       [   0, 1084]])"
            ]
          },
          "metadata": {},
          "execution_count": 68
        }
      ]
    },
    {
      "cell_type": "code",
      "source": [
        "disp = ConfusionMatrixDisplay(confusion_matrix=conf_train).plot(include_values=True, cmap=\"Blues\")\n",
        "plt.title(\"Confusion Matrix for Train Data Set\")\n",
        "plt.show()"
      ],
      "metadata": {
        "colab": {
          "base_uri": "https://localhost:8080/",
          "height": 472
        },
        "id": "JKFgPdl-S8Aa",
        "outputId": "0a81edb9-b4a2-43f4-ab66-6dec100487c7"
      },
      "execution_count": null,
      "outputs": [
        {
          "output_type": "display_data",
          "data": {
            "text/plain": [
              "<Figure size 640x480 with 2 Axes>"
            ],
            "image/png": "[encoded data removed]"
          },
          "metadata": {}
        }
      ]
    },
    {
      "cell_type": "code",
      "source": [
        "conf_test = confusion_matrix(y_test, preds_test)\n",
        "print('Confusion Matrix for testing set: ')\n",
        "conf_test"
      ],
      "metadata": {
        "colab": {
          "base_uri": "https://localhost:8080/"
        },
        "id": "r4TPCi3F_bBx",
        "outputId": "e5dbb928-f35d-4be9-ac91-6f24c40246c0"
      },
      "execution_count": null,
      "outputs": [
        {
          "output_type": "stream",
          "name": "stdout",
          "text": [
            "Confusion Matrix for testing set: \n"
          ]
        },
        {
          "output_type": "execute_result",
          "data": {
            "text/plain": [
              "array([[ 98,  89],\n",
              "       [ 14, 338]])"
            ]
          },
          "metadata": {},
          "execution_count": 70
        }
      ]
    },
    {
      "cell_type": "code",
      "source": [
        "disp = ConfusionMatrixDisplay(confusion_matrix=conf_test).plot(include_values=True, cmap=\"Blues\")\n",
        "plt.title(\"Confusion Matrix for Test Data Set\")\n",
        "plt.show()"
      ],
      "metadata": {
        "colab": {
          "base_uri": "https://localhost:8080/",
          "height": 472
        },
        "id": "DQ6O2tS0TNCk",
        "outputId": "bf785f55-500f-44df-9f43-62e939f69e7b"
      },
      "execution_count": null,
      "outputs": [
        {
          "output_type": "display_data",
          "data": {
            "text/plain": [
              "<Figure size 640x480 with 2 Axes>"
            ],
            "image/png": "[encoded data removed]"
          },
          "metadata": {}
        }
      ]
    },
    {
      "cell_type": "code",
      "source": [
        "f1_train = f1_score(y_train, preds_train)\n",
        "f1_test = f1_score(y_test, preds_test)\n",
        "print(f\"F1_score for training set is : {f1_train}. \\nF1_score for testing set is : {f1_test}.\")"
      ],
      "metadata": {
        "colab": {
          "base_uri": "https://localhost:8080/"
        },
        "id": "n9Mwx0Ng_Y4O",
        "outputId": "42dba65e-51a5-4c4c-d990-c50e6008722e"
      },
      "execution_count": null,
      "outputs": [
        {
          "output_type": "stream",
          "name": "stdout",
          "text": [
            "F1_score for training set is : 0.9967816091954023. \n",
            "F1_score for testing set is : 0.8677792041078306.\n"
          ]
        }
      ]
    },
    {
      "cell_type": "code",
      "source": [],
      "metadata": {
        "id": "VHVHw9fkGrVR"
      },
      "execution_count": null,
      "outputs": []
    }
  ],
  "metadata": {
    "colab": {
      "provenance": []
    },
    "kernelspec": {
      "display_name": "Python 3",
      "name": "python3"
    },
    "language_info": {
      "name": "python"
    }
  },
  "nbformat": 4,
  "nbformat_minor": 0
}